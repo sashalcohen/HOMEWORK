{
 "cells": [
  {
   "cell_type": "markdown",
   "id": "323e077d",
   "metadata": {},
   "source": [
    "## Q. 1 - Defined Functions\n",
    "\n",
    "Build a function that takes a dollar amoount from a previous year and returns its value in 2023 dollars rounded to ONE decimal places.\n",
    "\n",
    "To accomplish this, you will need to know the formula for converting old dollar amounts to a more current value (hint: you will need to know the CPI conversion formula).\n",
    "\n",
    "The most recent full-year CPI is for 2023 at `304.7`. Here's the <a href=\"https://github.com/sandeepmj/datasets/blob/main/cpi-to-2023.csv\">CPI for previous years</a>.\n",
    "\n",
    "**Important Note**: At this time, you will need to manually insert the old year CPI as an argument for a parameter. \n"
   ]
  },
  {
   "cell_type": "code",
   "execution_count": 10,
   "id": "14fdd845",
   "metadata": {},
   "outputs": [
    {
     "data": {
      "text/html": [
       "<div>\n",
       "<style scoped>\n",
       "    .dataframe tbody tr th:only-of-type {\n",
       "        vertical-align: middle;\n",
       "    }\n",
       "\n",
       "    .dataframe tbody tr th {\n",
       "        vertical-align: top;\n",
       "    }\n",
       "\n",
       "    .dataframe thead th {\n",
       "        text-align: right;\n",
       "    }\n",
       "</style>\n",
       "<table border=\"1\" class=\"dataframe\">\n",
       "  <thead>\n",
       "    <tr style=\"text-align: right;\">\n",
       "      <th></th>\n",
       "      <th>year</th>\n",
       "      <th>annual average cpi (CPI-U)</th>\n",
       "    </tr>\n",
       "  </thead>\n",
       "  <tbody>\n",
       "    <tr>\n",
       "      <th>0</th>\n",
       "      <td>1913</td>\n",
       "      <td>9.900</td>\n",
       "    </tr>\n",
       "    <tr>\n",
       "      <th>1</th>\n",
       "      <td>1914</td>\n",
       "      <td>10.000</td>\n",
       "    </tr>\n",
       "    <tr>\n",
       "      <th>2</th>\n",
       "      <td>1915</td>\n",
       "      <td>10.100</td>\n",
       "    </tr>\n",
       "    <tr>\n",
       "      <th>3</th>\n",
       "      <td>1916</td>\n",
       "      <td>10.900</td>\n",
       "    </tr>\n",
       "    <tr>\n",
       "      <th>4</th>\n",
       "      <td>1917</td>\n",
       "      <td>12.800</td>\n",
       "    </tr>\n",
       "    <tr>\n",
       "      <th>...</th>\n",
       "      <td>...</td>\n",
       "      <td>...</td>\n",
       "    </tr>\n",
       "    <tr>\n",
       "      <th>106</th>\n",
       "      <td>2019</td>\n",
       "      <td>255.657</td>\n",
       "    </tr>\n",
       "    <tr>\n",
       "      <th>107</th>\n",
       "      <td>2020</td>\n",
       "      <td>258.811</td>\n",
       "    </tr>\n",
       "    <tr>\n",
       "      <th>108</th>\n",
       "      <td>2021</td>\n",
       "      <td>270.970</td>\n",
       "    </tr>\n",
       "    <tr>\n",
       "      <th>109</th>\n",
       "      <td>2022</td>\n",
       "      <td>292.655</td>\n",
       "    </tr>\n",
       "    <tr>\n",
       "      <th>110</th>\n",
       "      <td>2023</td>\n",
       "      <td>304.700</td>\n",
       "    </tr>\n",
       "  </tbody>\n",
       "</table>\n",
       "<p>111 rows × 2 columns</p>\n",
       "</div>"
      ],
      "text/plain": [
       "     year  annual average cpi (CPI-U)\n",
       "0    1913                       9.900\n",
       "1    1914                      10.000\n",
       "2    1915                      10.100\n",
       "3    1916                      10.900\n",
       "4    1917                      12.800\n",
       "..    ...                         ...\n",
       "106  2019                     255.657\n",
       "107  2020                     258.811\n",
       "108  2021                     270.970\n",
       "109  2022                     292.655\n",
       "110  2023                     304.700\n",
       "\n",
       "[111 rows x 2 columns]"
      ]
     },
     "execution_count": 10,
     "metadata": {},
     "output_type": "execute_result"
    }
   ],
   "source": [
    "## code it here\n",
    "## INCORRECT! FIX!\n",
    "import pandas as pd\n",
    "df = pd.read_csv(\"https://raw.githubusercontent.com/sandeepmj/datasets/main/cpi-to-2023.csv\")\n",
    "CPI_2023 = 304.7\n",
    "\n",
    "def to_2023_dollars(old_price):\n",
    "    increase_ratio = (CPI_2023/old_price)\n",
    "    return round((old_price*increase_ratio),1)\n",
    "    \n",
    "df"
   ]
  },
  {
   "cell_type": "code",
   "execution_count": 11,
   "id": "1ebe5e42",
   "metadata": {},
   "outputs": [
    {
     "data": {
      "text/plain": [
       "304.7"
      ]
     },
     "execution_count": 11,
     "metadata": {},
     "output_type": "execute_result"
    }
   ],
   "source": [
    "## test it here on a few previous years\n",
    "\n",
    "to_2023_dollars(270.970)"
   ]
  },
  {
   "cell_type": "code",
   "execution_count": 20,
   "id": "b9868534",
   "metadata": {},
   "outputs": [
    {
     "data": {
      "text/plain": [
       "304.7"
      ]
     },
     "execution_count": 20,
     "metadata": {},
     "output_type": "execute_result"
    }
   ],
   "source": [
    "## test it here on a few previous years\n",
    "to_2023_dollars(10.1)\n",
    "to_2023_dollars(12.8)"
   ]
  },
  {
   "cell_type": "markdown",
   "id": "77eb5632",
   "metadata": {},
   "source": [
    "## Q. 2 - Movie Sales\n",
    "\n",
    "Here is the  <a href=\"https://github.com/sandeepmj/datasets/blob/main/movie-sales.csv\">repo that holds the top movies by release-year sales</a> for each year going back to 1995.\n",
    "\n",
    "Which are the 5 movies that grossed the most in the year they were released? "
   ]
  },
  {
   "cell_type": "code",
   "execution_count": 19,
   "id": "e63d15dd",
   "metadata": {},
   "outputs": [
    {
     "data": {
      "text/html": [
       "<div>\n",
       "<style scoped>\n",
       "    .dataframe tbody tr th:only-of-type {\n",
       "        vertical-align: middle;\n",
       "    }\n",
       "\n",
       "    .dataframe tbody tr th {\n",
       "        vertical-align: top;\n",
       "    }\n",
       "\n",
       "    .dataframe thead th {\n",
       "        text-align: right;\n",
       "    }\n",
       "</style>\n",
       "<table border=\"1\" class=\"dataframe\">\n",
       "  <thead>\n",
       "    <tr style=\"text-align: right;\">\n",
       "      <th></th>\n",
       "      <th>release_year</th>\n",
       "      <th>title</th>\n",
       "      <th>rating</th>\n",
       "      <th>studio</th>\n",
       "      <th>release_year_total</th>\n",
       "      <th>release_yr_tickets</th>\n",
       "      <th>cpi</th>\n",
       "    </tr>\n",
       "  </thead>\n",
       "  <tbody>\n",
       "    <tr>\n",
       "      <th>0</th>\n",
       "      <td>1995</td>\n",
       "      <td>Batman Forever</td>\n",
       "      <td>PG-13</td>\n",
       "      <td>Warner Bros.</td>\n",
       "      <td>184031112</td>\n",
       "      <td>42306002</td>\n",
       "      <td>152.4</td>\n",
       "    </tr>\n",
       "    <tr>\n",
       "      <th>1</th>\n",
       "      <td>1996</td>\n",
       "      <td>Independence Day</td>\n",
       "      <td>PG-13</td>\n",
       "      <td>20th Century Fox</td>\n",
       "      <td>306169255</td>\n",
       "      <td>69269062</td>\n",
       "      <td>156.9</td>\n",
       "    </tr>\n",
       "    <tr>\n",
       "      <th>2</th>\n",
       "      <td>1997</td>\n",
       "      <td>Men in Black</td>\n",
       "      <td>PG-13</td>\n",
       "      <td>Sony Pictures</td>\n",
       "      <td>250650052</td>\n",
       "      <td>54607854</td>\n",
       "      <td>160.5</td>\n",
       "    </tr>\n",
       "    <tr>\n",
       "      <th>3</th>\n",
       "      <td>1998</td>\n",
       "      <td>Titanic</td>\n",
       "      <td>PG-13</td>\n",
       "      <td>Paramount Pictures</td>\n",
       "      <td>488192879</td>\n",
       "      <td>104092298</td>\n",
       "      <td>163.0</td>\n",
       "    </tr>\n",
       "    <tr>\n",
       "      <th>4</th>\n",
       "      <td>1999</td>\n",
       "      <td>Star Wars Ep. I: The Phantom Menace</td>\n",
       "      <td>PG</td>\n",
       "      <td>20th Century Fox</td>\n",
       "      <td>430443350</td>\n",
       "      <td>84732942</td>\n",
       "      <td>166.6</td>\n",
       "    </tr>\n",
       "  </tbody>\n",
       "</table>\n",
       "</div>"
      ],
      "text/plain": [
       "   release_year                                title rating  \\\n",
       "0          1995                       Batman Forever  PG-13   \n",
       "1          1996                     Independence Day  PG-13   \n",
       "2          1997                         Men in Black  PG-13   \n",
       "3          1998                              Titanic  PG-13   \n",
       "4          1999  Star Wars Ep. I: The Phantom Menace     PG   \n",
       "\n",
       "               studio  release_year_total  release_yr_tickets    cpi  \n",
       "0        Warner Bros.           184031112            42306002  152.4  \n",
       "1    20th Century Fox           306169255            69269062  156.9  \n",
       "2       Sony Pictures           250650052            54607854  160.5  \n",
       "3  Paramount Pictures           488192879           104092298  163.0  \n",
       "4    20th Century Fox           430443350            84732942  166.6  "
      ]
     },
     "execution_count": 19,
     "metadata": {},
     "output_type": "execute_result"
    }
   ],
   "source": [
    "## code it here...create more cells as necessary.\n",
    "\n",
    "df_movies = pd.read_csv(\"https://raw.githubusercontent.com/sandeepmj/datasets/main/movie-sales.csv\")\n",
    "df_movies.head()"
   ]
  },
  {
   "cell_type": "code",
   "execution_count": 38,
   "id": "81b3defc",
   "metadata": {},
   "outputs": [
    {
     "data": {
      "text/plain": [
       "['Avengers: Endgame',\n",
       " 'Star Wars Ep. VII: The Force Awakens',\n",
       " 'Top Gun: Maverick',\n",
       " 'Black Panther',\n",
       " 'Barbie']"
      ]
     },
     "execution_count": 38,
     "metadata": {},
     "output_type": "execute_result"
    }
   ],
   "source": [
    "df_top5 = df_movies.sort_values(by=[\"release_year_total\"], ascending = False).head()\n",
    "df_top5[\"title\"].tolist()\n",
    "## issue is that if the 5 highest grossing movies didn't each have unique release years, it wouldn't work."
   ]
  },
  {
   "cell_type": "markdown",
   "id": "a866a79d",
   "metadata": {},
   "source": [
    "## Q. 3 Challenge\n",
    "\n",
    "Can you figure out another way to get only the top 5?"
   ]
  },
  {
   "cell_type": "code",
   "execution_count": null,
   "id": "152f1a0a",
   "metadata": {},
   "outputs": [],
   "source": []
  },
  {
   "cell_type": "code",
   "execution_count": 39,
   "id": "e446312c",
   "metadata": {},
   "outputs": [],
   "source": [
    "## code it here\n",
    "def yrly_top_movies(how_many):\n",
    "    '''\n",
    "    this function will return the names of (how_many) top grossing films of distinct years\n",
    "    '''\n",
    "    df_sorted = df_movies.sort_values(by=[\"release_year_total\"], ascending = False)\n",
    "    years = df_top5[\"year\"].tolist()\n",
    "    "
   ]
  },
  {
   "cell_type": "markdown",
   "id": "ae8a7540",
   "metadata": {},
   "source": [
    "## Q. 4 What was the median since 1995 (inflation adjusted)\n",
    "\n",
    "Place in a sentence with pleasing formating.\n"
   ]
  },
  {
   "cell_type": "code",
   "execution_count": 6,
   "id": "fa0b9509",
   "metadata": {},
   "outputs": [],
   "source": [
    "## code here\n"
   ]
  },
  {
   "cell_type": "markdown",
   "id": "31777505",
   "metadata": {},
   "source": [
    "# Q. 5 Multiple values at one time\n",
    "\n",
    "Calculate the sum, mean, median, max and min for ticket sales, revenue year it was released and inflation adjusted revenue\n",
    "\n",
    "\n"
   ]
  },
  {
   "cell_type": "code",
   "execution_count": 7,
   "id": "54f78490",
   "metadata": {},
   "outputs": [],
   "source": [
    "## code here\n"
   ]
  },
  {
   "cell_type": "code",
   "execution_count": null,
   "id": "0aca87d4",
   "metadata": {},
   "outputs": [],
   "source": []
  }
 ],
 "metadata": {
  "kernelspec": {
   "display_name": "Python 3 (ipykernel)",
   "language": "python",
   "name": "python3"
  },
  "language_info": {
   "codemirror_mode": {
    "name": "ipython",
    "version": 3
   },
   "file_extension": ".py",
   "mimetype": "text/x-python",
   "name": "python",
   "nbconvert_exporter": "python",
   "pygments_lexer": "ipython3",
   "version": "3.11.5"
  }
 },
 "nbformat": 4,
 "nbformat_minor": 5
}
