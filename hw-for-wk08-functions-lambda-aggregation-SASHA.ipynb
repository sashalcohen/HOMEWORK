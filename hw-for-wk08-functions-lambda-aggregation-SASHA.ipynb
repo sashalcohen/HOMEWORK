{
 "cells": [
  {
   "cell_type": "markdown",
   "id": "323e077d",
   "metadata": {},
   "source": [
    "## Q. 1 - Defined Functions\n",
    "\n",
    "Build a function that takes a dollar amoount from a previous year and returns its value in 2023 dollars rounded to ONE decimal places.\n",
    "\n",
    "To accomplish this, you will need to know the formula for converting old dollar amounts to a more current value (hint: you will need to know the CPI conversion formula).\n",
    "\n",
    "The most recent full-year CPI is for 2023 at `304.7`. Here's the <a href=\"https://github.com/sandeepmj/datasets/blob/main/cpi-to-2023.csv\">CPI for previous years</a>.\n",
    "\n",
    "**Important Note**: At this time, you will need to manually insert the old year CPI as an argument for a parameter. \n"
   ]
  },
  {
   "cell_type": "code",
   "execution_count": 1,
   "id": "14fdd845",
   "metadata": {},
   "outputs": [],
   "source": [
    "## code it here\n"
   ]
  },
  {
   "cell_type": "code",
   "execution_count": 2,
   "id": "1ebe5e42",
   "metadata": {},
   "outputs": [],
   "source": [
    "## test it here on a few previous years \n"
   ]
  },
  {
   "cell_type": "code",
   "execution_count": 3,
   "id": "b9868534",
   "metadata": {},
   "outputs": [],
   "source": [
    "## test it here on a few previous years\n"
   ]
  },
  {
   "cell_type": "markdown",
   "id": "77eb5632",
   "metadata": {},
   "source": [
    "## Q. 2 - Movie Sales\n",
    "\n",
    "Here is the  <a href=\"https://github.com/sandeepmj/datasets/blob/main/movie-sales.csv\">repo that holds the top movies by release-year sales</a> for each year going back to 1995.\n",
    "\n",
    "Which are the 5 movies that grossed the most in the year they were released? "
   ]
  },
  {
   "cell_type": "code",
   "execution_count": 4,
   "id": "e63d15dd",
   "metadata": {},
   "outputs": [],
   "source": [
    "## code it here...create more cells as necessary.\n",
    "\n",
    "\n"
   ]
  },
  {
   "cell_type": "markdown",
   "id": "a866a79d",
   "metadata": {},
   "source": [
    "## Q. 3 Challenge\n",
    "\n",
    "Can you figure out another way to get only the top 5?"
   ]
  },
  {
   "cell_type": "code",
   "execution_count": 5,
   "id": "e446312c",
   "metadata": {},
   "outputs": [],
   "source": [
    "## code it here\n",
    "\n"
   ]
  },
  {
   "cell_type": "markdown",
   "id": "ae8a7540",
   "metadata": {},
   "source": [
    "## Q. 4 What was the median since 1995 (inflation adjusted)\n",
    "\n",
    "Place in a sentence with pleasing formating.\n"
   ]
  },
  {
   "cell_type": "code",
   "execution_count": 6,
   "id": "fa0b9509",
   "metadata": {},
   "outputs": [],
   "source": [
    "## code here\n"
   ]
  },
  {
   "cell_type": "markdown",
   "id": "31777505",
   "metadata": {},
   "source": [
    "# Q. 5 Multiple values at one time\n",
    "\n",
    "Calculate the sum, mean, median, max and min for ticket sales, revenue year it was released and inflation adjusted revenue\n",
    "\n",
    "\n"
   ]
  },
  {
   "cell_type": "code",
   "execution_count": 7,
   "id": "54f78490",
   "metadata": {},
   "outputs": [],
   "source": [
    "## code here\n"
   ]
  },
  {
   "cell_type": "code",
   "execution_count": null,
   "id": "0aca87d4",
   "metadata": {},
   "outputs": [],
   "source": []
  }
 ],
 "metadata": {
  "kernelspec": {
   "display_name": "Python 3 (ipykernel)",
   "language": "python",
   "name": "python3"
  },
  "language_info": {
   "codemirror_mode": {
    "name": "ipython",
    "version": 3
   },
   "file_extension": ".py",
   "mimetype": "text/x-python",
   "name": "python",
   "nbconvert_exporter": "python",
   "pygments_lexer": "ipython3",
   "version": "3.9.7"
  }
 },
 "nbformat": 4,
 "nbformat_minor": 5
}
