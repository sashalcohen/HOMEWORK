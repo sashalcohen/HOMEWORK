{
 "cells": [
  {
   "cell_type": "markdown",
   "id": "Qim5YnoxEywd",
   "metadata": {
    "id": "Qim5YnoxEywd"
   },
   "source": [
    "# Homework for Week 3\n",
    "\n",
    "The goal for this homework is to see the relevant journalistic uses for what we learned in class in week 2.\n",
    "\n",
    "1. access specific data within a dataset,\n",
    "2. break down larger datasets into smaller chunks (subset),\n",
    "3. Ingest different types of spreadsheets into Pandas,\n",
    "4. Gather general info about our dataframes"
   ]
  },
  {
   "cell_type": "markdown",
   "id": "J2Mf4b3sPvLg",
   "metadata": {
    "id": "J2Mf4b3sPvLg"
   },
   "source": [
    "# List Slicing\n",
    "## Natural disasters list\n",
    "\n",
    "The Small Business Administration has a list of natural disasters that cause extensive economic damage. Run the next cell to pull the list into memory"
   ]
  },
  {
   "cell_type": "code",
   "execution_count": 1,
   "id": "lk8GeCDvPvLg",
   "metadata": {
    "id": "lk8GeCDvPvLg"
   },
   "outputs": [],
   "source": [
    "disasters = [\n",
    "        \"Landslides\",\n",
    "        \"Earthquake\",\n",
    "        \"Wildfires\",\n",
    "        \"Tornadoes\",\n",
    "        \"Hurricane\",\n",
    "        \"Wind Storm\",\n",
    "        \"Winter Freeze\",\n",
    "        \"Ice Storm\",\n",
    "        \"Drought\",\n",
    "        \"Tsunami\",\n",
    "        \"Flash floods\",\n",
    "        \"Mudslides\",\n",
    "        \"Torrential rainfall\",\n",
    "        \"Riverine floods\",\n",
    "        \"Tidal Surge\"\n",
    "         ]"
   ]
  },
  {
   "cell_type": "code",
   "execution_count": 3,
   "id": "AJE4jVfQPvLh",
   "metadata": {
    "id": "AJE4jVfQPvLh"
   },
   "outputs": [
    {
     "data": {
      "text/plain": [
       "['Landslides',\n",
       " 'Earthquake',\n",
       " 'Wildfires',\n",
       " 'Tornadoes',\n",
       " 'Hurricane',\n",
       " 'Wind Storm',\n",
       " 'Winter Freeze',\n",
       " 'Ice Storm',\n",
       " 'Drought',\n",
       " 'Tsunami',\n",
       " 'Flash floods',\n",
       " 'Mudslides',\n",
       " 'Torrential rainfall',\n",
       " 'Riverine floods',\n",
       " 'Tidal Surge']"
      ]
     },
     "execution_count": 3,
     "metadata": {},
     "output_type": "execute_result"
    }
   ],
   "source": [
    "## call the disaster list here\n",
    "disasters"
   ]
  },
  {
   "cell_type": "code",
   "execution_count": 4,
   "id": "EvzyETnYPvLh",
   "metadata": {
    "id": "EvzyETnYPvLh"
   },
   "outputs": [
    {
     "data": {
      "text/plain": [
       "'Landslides'"
      ]
     },
     "execution_count": 4,
     "metadata": {},
     "output_type": "execute_result"
    }
   ],
   "source": [
    "## the first item in the list\n",
    "disasters[0]"
   ]
  },
  {
   "cell_type": "code",
   "execution_count": 5,
   "id": "bOz8lgDCPvLh",
   "metadata": {
    "id": "bOz8lgDCPvLh"
   },
   "outputs": [
    {
     "data": {
      "text/plain": [
       "'Riverine floods'"
      ]
     },
     "execution_count": 5,
     "metadata": {},
     "output_type": "execute_result"
    }
   ],
   "source": [
    "## call the penultimate item (without manually counting the number of items)\n",
    "disasters[-2]"
   ]
  },
  {
   "cell_type": "markdown",
   "id": "8wWZaDxpPvLh",
   "metadata": {
    "id": "8wWZaDxpPvLh"
   },
   "source": [
    "### Clarification:\n",
    "\n",
    "For the next two questions, I am referring to numerical positions rather than zero-indexed positions. In other words, you will have to translate the numerical position into zero-indexed positions in your slicing."
   ]
  },
  {
   "cell_type": "code",
   "execution_count": 6,
   "id": "mN1kYkmcPvLh",
   "metadata": {
    "id": "mN1kYkmcPvLh"
   },
   "outputs": [
    {
     "data": {
      "text/plain": [
       "['Wildfires', 'Tornadoes', 'Hurricane', 'Wind Storm']"
      ]
     },
     "execution_count": 6,
     "metadata": {},
     "output_type": "execute_result"
    }
   ],
   "source": [
    "## create a new list called disasters_subset that holds the 3rd to 6th items inclusive\n",
    "disasters_subset = disasters[2:6]\n",
    "disasters_subset"
   ]
  },
  {
   "cell_type": "code",
   "execution_count": 7,
   "id": "IyWaWlfuPvLh",
   "metadata": {
    "id": "IyWaWlfuPvLh"
   },
   "outputs": [],
   "source": [
    "## create a new list called disasters_subset2 that holds the 2nd through 8th items\n",
    "disasters_subset2 = disasters[1:8]"
   ]
  },
  {
   "cell_type": "markdown",
   "id": "1d64966a",
   "metadata": {
    "id": "1d64966a"
   },
   "source": [
    "## Pandas - Importing data\n",
    "\n",
    "Please download from Google Drive the following data and then upload it into this notebook:\n",
    "\n",
    "- <a href=\"https://drive.google.com/file/d/1izg0nXFm8vBJAhz77LFdSMQGP4STvpEk/view?usp=sharing\">EMS excerpt</a>,\n",
    "\n",
    "- <a href=\"https://docs.google.com/spreadsheets/d/1sUEttreon8IKzCmsfRQ6cPA1lfeuNDu9/edit?usp=sharing&ouid=107646296031550187966&rtpof=true&sd=true\">Customs, Border Patrol</a>\n",
    "\n",
    "**Give yourself time to download it. Some of the files are large!**"
   ]
  },
  {
   "cell_type": "code",
   "execution_count": 8,
   "id": "e8c6fb4b",
   "metadata": {
    "id": "e8c6fb4b"
   },
   "outputs": [],
   "source": [
    "## import the pandas library in this cell\n",
    "\n",
    "import pandas as pd"
   ]
  },
  {
   "cell_type": "markdown",
   "id": "415d55dd",
   "metadata": {
    "id": "415d55dd"
   },
   "source": [
    "### Ingest the following dataset into this note:\n",
    "\n",
    "- ```ems20_1st_6months_excerpt.csv``` into a dataframe named ```ems2020_excerpt_df```"
   ]
  },
  {
   "cell_type": "code",
   "execution_count": null,
   "id": "2609f6fb",
   "metadata": {
    "id": "2609f6fb"
   },
   "outputs": [],
   "source": [
    "## import data and store in dataframe\n"
   ]
  },
  {
   "cell_type": "code",
   "execution_count": null,
   "id": "ec3cb6b2",
   "metadata": {
    "id": "ec3cb6b2"
   },
   "outputs": [],
   "source": [
    "## call the first 10 rows\n"
   ]
  },
  {
   "cell_type": "code",
   "execution_count": null,
   "id": "fb59614c",
   "metadata": {
    "id": "fb59614c"
   },
   "outputs": [],
   "source": [
    "## call the last 5 rows\n"
   ]
  },
  {
   "cell_type": "code",
   "execution_count": null,
   "id": "0953ae2d",
   "metadata": {
    "id": "0953ae2d"
   },
   "outputs": [],
   "source": [
    "## call a 20 random rows\n"
   ]
  },
  {
   "cell_type": "code",
   "execution_count": null,
   "id": "7Vyl0p7YHU_D",
   "metadata": {
    "id": "7Vyl0p7YHU_D"
   },
   "outputs": [],
   "source": [
    "## how might you slice this df to show only rows 42 through 51 inclusive\n"
   ]
  },
  {
   "cell_type": "code",
   "execution_count": null,
   "id": "kUfizScRIMms",
   "metadata": {
    "id": "kUfizScRIMms"
   },
   "outputs": [],
   "source": [
    "## store rows 42 through 51 inclusive into a df called df_excerpt\n"
   ]
  },
  {
   "cell_type": "code",
   "execution_count": null,
   "id": "68c744d9",
   "metadata": {
    "id": "68c744d9"
   },
   "outputs": [],
   "source": [
    "## get basic overview of the data\n",
    "## what datatypes do the different columns hold?\n",
    "## how many rows and columns are there\n",
    "\n"
   ]
  },
  {
   "cell_type": "markdown",
   "id": "e5f37584",
   "metadata": {
    "id": "e5f37584"
   },
   "source": [
    "## Targeting an Excel sheet\n",
    "\n",
    "We need the Customs and Border Protection data in this ```multi-data.xlsx``` workbook."
   ]
  },
  {
   "cell_type": "code",
   "execution_count": null,
   "id": "51a1ee71",
   "metadata": {
    "id": "51a1ee71"
   },
   "outputs": [],
   "source": [
    "## import data here\n"
   ]
  },
  {
   "cell_type": "code",
   "execution_count": null,
   "id": "8885c25d",
   "metadata": {
    "id": "8885c25d"
   },
   "outputs": [],
   "source": [
    "## call the top 15 rows\n",
    "\n"
   ]
  }
 ],
 "metadata": {
  "colab": {
   "provenance": []
  },
  "kernelspec": {
   "display_name": "Python 3 (ipykernel)",
   "language": "python",
   "name": "python3"
  },
  "language_info": {
   "codemirror_mode": {
    "name": "ipython",
    "version": 3
   },
   "file_extension": ".py",
   "mimetype": "text/x-python",
   "name": "python",
   "nbconvert_exporter": "python",
   "pygments_lexer": "ipython3",
   "version": "3.11.5"
  }
 },
 "nbformat": 4,
 "nbformat_minor": 5
}
