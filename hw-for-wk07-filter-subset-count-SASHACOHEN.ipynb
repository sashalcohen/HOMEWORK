{
 "cells": [
  {
   "cell_type": "markdown",
   "id": "bb333aa4",
   "metadata": {},
   "source": [
    "# NYC traffic accidents over a 3 year period \n",
    "## Filter and Subset\n",
    "\n",
    "Ingest <a href=\"https://raw.githubusercontent.com/sandeepmj/datasets/main/nyc-accidents.csv\">this dataset</a> stored GitHub."
   ]
  },
  {
   "cell_type": "code",
   "execution_count": 13,
   "id": "3a4e3c74",
   "metadata": {},
   "outputs": [],
   "source": [
    "## import necessary libraries\n",
    "\n",
    "import pandas as pd"
   ]
  },
  {
   "cell_type": "code",
   "execution_count": null,
   "id": "506891bb",
   "metadata": {},
   "outputs": [],
   "source": [
    "## read the dataset into notebook\n",
    "\n",
    "df_accidents = pd.read_csv(\"https://raw.githubusercontent.com/sandeepmj/datasets/main/nyc-accidents.csv\")\n"
   ]
  },
  {
   "cell_type": "code",
   "execution_count": 18,
   "id": "e2bbc88d",
   "metadata": {},
   "outputs": [
    {
     "data": {
      "text/html": [
       "<div>\n",
       "<style scoped>\n",
       "    .dataframe tbody tr th:only-of-type {\n",
       "        vertical-align: middle;\n",
       "    }\n",
       "\n",
       "    .dataframe tbody tr th {\n",
       "        vertical-align: top;\n",
       "    }\n",
       "\n",
       "    .dataframe thead th {\n",
       "        text-align: right;\n",
       "    }\n",
       "</style>\n",
       "<table border=\"1\" class=\"dataframe\">\n",
       "  <thead>\n",
       "    <tr style=\"text-align: right;\">\n",
       "      <th></th>\n",
       "      <th>CRASH DATE</th>\n",
       "      <th>CRASH TIME</th>\n",
       "      <th>BOROUGH</th>\n",
       "      <th>LOCATION</th>\n",
       "      <th>NUMBER OF PERSONS INJURED</th>\n",
       "      <th>NUMBER OF PERSONS KILLED</th>\n",
       "      <th>NUMBER OF PEDESTRIANS INJURED</th>\n",
       "      <th>NUMBER OF PEDESTRIANS KILLED</th>\n",
       "      <th>NUMBER OF CYCLIST INJURED</th>\n",
       "      <th>NUMBER OF CYCLIST KILLED</th>\n",
       "      <th>NUMBER OF MOTORIST INJURED</th>\n",
       "      <th>NUMBER OF MOTORIST KILLED</th>\n",
       "      <th>CONTRIBUTING FACTOR VEHICLE 1</th>\n",
       "      <th>CONTRIBUTING FACTOR VEHICLE 2</th>\n",
       "      <th>COLLISION_ID</th>\n",
       "      <th>VEHICLE TYPE CODE 1</th>\n",
       "      <th>VEHICLE TYPE CODE 2</th>\n",
       "    </tr>\n",
       "  </thead>\n",
       "  <tbody>\n",
       "    <tr>\n",
       "      <th>0</th>\n",
       "      <td>5/21/19</td>\n",
       "      <td>22:50</td>\n",
       "      <td>BROOKLYN</td>\n",
       "      <td>(40.69754, -73.98312)</td>\n",
       "      <td>0</td>\n",
       "      <td>0</td>\n",
       "      <td>0</td>\n",
       "      <td>0</td>\n",
       "      <td>0</td>\n",
       "      <td>0</td>\n",
       "      <td>0</td>\n",
       "      <td>0</td>\n",
       "      <td>Passing or Lane Usage Improper</td>\n",
       "      <td>Unspecified</td>\n",
       "      <td>4136992</td>\n",
       "      <td>ÔøΩMBU</td>\n",
       "      <td>Taxi</td>\n",
       "    </tr>\n",
       "    <tr>\n",
       "      <th>1</th>\n",
       "      <td>1/21/20</td>\n",
       "      <td>15:49</td>\n",
       "      <td>NaN</td>\n",
       "      <td>NaN</td>\n",
       "      <td>0</td>\n",
       "      <td>0</td>\n",
       "      <td>0</td>\n",
       "      <td>0</td>\n",
       "      <td>0</td>\n",
       "      <td>0</td>\n",
       "      <td>0</td>\n",
       "      <td>0</td>\n",
       "      <td>Driver Inattention/Distraction</td>\n",
       "      <td>Unspecified</td>\n",
       "      <td>4277087</td>\n",
       "      <td>Sedan</td>\n",
       "      <td>Station Wagon/Sport Utility Vehicle</td>\n",
       "    </tr>\n",
       "    <tr>\n",
       "      <th>2</th>\n",
       "      <td>12/31/20</td>\n",
       "      <td>16:30</td>\n",
       "      <td>NaN</td>\n",
       "      <td>NaN</td>\n",
       "      <td>0</td>\n",
       "      <td>0</td>\n",
       "      <td>0</td>\n",
       "      <td>0</td>\n",
       "      <td>0</td>\n",
       "      <td>0</td>\n",
       "      <td>0</td>\n",
       "      <td>0</td>\n",
       "      <td>Reaction to Uninvolved Vehicle</td>\n",
       "      <td>NaN</td>\n",
       "      <td>4380668</td>\n",
       "      <td>Sedan</td>\n",
       "      <td>NaN</td>\n",
       "    </tr>\n",
       "    <tr>\n",
       "      <th>3</th>\n",
       "      <td>12/25/20</td>\n",
       "      <td>20:19</td>\n",
       "      <td>NaN</td>\n",
       "      <td>NaN</td>\n",
       "      <td>0</td>\n",
       "      <td>0</td>\n",
       "      <td>0</td>\n",
       "      <td>0</td>\n",
       "      <td>0</td>\n",
       "      <td>0</td>\n",
       "      <td>0</td>\n",
       "      <td>0</td>\n",
       "      <td>Following Too Closely</td>\n",
       "      <td>Unspecified</td>\n",
       "      <td>4380494</td>\n",
       "      <td>Sedan</td>\n",
       "      <td>Sedan</td>\n",
       "    </tr>\n",
       "    <tr>\n",
       "      <th>4</th>\n",
       "      <td>4/15/20</td>\n",
       "      <td>15:20</td>\n",
       "      <td>NaN</td>\n",
       "      <td>(40.671585, -73.99843)</td>\n",
       "      <td>0</td>\n",
       "      <td>0</td>\n",
       "      <td>0</td>\n",
       "      <td>0</td>\n",
       "      <td>0</td>\n",
       "      <td>0</td>\n",
       "      <td>0</td>\n",
       "      <td>0</td>\n",
       "      <td>Driver Inattention/Distraction</td>\n",
       "      <td>Unspecified</td>\n",
       "      <td>4407790</td>\n",
       "      <td>Sedan</td>\n",
       "      <td>Tractor Truck Diesel</td>\n",
       "    </tr>\n",
       "    <tr>\n",
       "      <th>...</th>\n",
       "      <td>...</td>\n",
       "      <td>...</td>\n",
       "      <td>...</td>\n",
       "      <td>...</td>\n",
       "      <td>...</td>\n",
       "      <td>...</td>\n",
       "      <td>...</td>\n",
       "      <td>...</td>\n",
       "      <td>...</td>\n",
       "      <td>...</td>\n",
       "      <td>...</td>\n",
       "      <td>...</td>\n",
       "      <td>...</td>\n",
       "      <td>...</td>\n",
       "      <td>...</td>\n",
       "      <td>...</td>\n",
       "      <td>...</td>\n",
       "    </tr>\n",
       "    <tr>\n",
       "      <th>324378</th>\n",
       "      <td>1/1/19</td>\n",
       "      <td>19:00</td>\n",
       "      <td>BROOKLYN</td>\n",
       "      <td>(40.6897, -73.922455)</td>\n",
       "      <td>0</td>\n",
       "      <td>0</td>\n",
       "      <td>0</td>\n",
       "      <td>0</td>\n",
       "      <td>0</td>\n",
       "      <td>0</td>\n",
       "      <td>0</td>\n",
       "      <td>0</td>\n",
       "      <td>Driver Inattention/Distraction</td>\n",
       "      <td>Unspecified</td>\n",
       "      <td>4060606</td>\n",
       "      <td>Ambulance</td>\n",
       "      <td>Sedan</td>\n",
       "    </tr>\n",
       "    <tr>\n",
       "      <th>324379</th>\n",
       "      <td>1/1/19</td>\n",
       "      <td>8:00</td>\n",
       "      <td>BRONX</td>\n",
       "      <td>(40.81317, -73.859146)</td>\n",
       "      <td>0</td>\n",
       "      <td>0</td>\n",
       "      <td>0</td>\n",
       "      <td>0</td>\n",
       "      <td>0</td>\n",
       "      <td>0</td>\n",
       "      <td>0</td>\n",
       "      <td>0</td>\n",
       "      <td>Steering Failure</td>\n",
       "      <td>Unspecified</td>\n",
       "      <td>4060771</td>\n",
       "      <td>Pick-up Truck</td>\n",
       "      <td>Station Wagon/Sport Utility Vehicle</td>\n",
       "    </tr>\n",
       "    <tr>\n",
       "      <th>324380</th>\n",
       "      <td>1/1/19</td>\n",
       "      <td>3:30</td>\n",
       "      <td>BRONX</td>\n",
       "      <td>(40.829407, -73.81967)</td>\n",
       "      <td>0</td>\n",
       "      <td>0</td>\n",
       "      <td>0</td>\n",
       "      <td>0</td>\n",
       "      <td>0</td>\n",
       "      <td>0</td>\n",
       "      <td>0</td>\n",
       "      <td>0</td>\n",
       "      <td>Unspecified</td>\n",
       "      <td>Unspecified</td>\n",
       "      <td>4060653</td>\n",
       "      <td>Pick-up Truck</td>\n",
       "      <td>Sedan</td>\n",
       "    </tr>\n",
       "    <tr>\n",
       "      <th>324381</th>\n",
       "      <td>1/1/19</td>\n",
       "      <td>19:30</td>\n",
       "      <td>BROOKLYN</td>\n",
       "      <td>(40.687565, -73.984406)</td>\n",
       "      <td>0</td>\n",
       "      <td>0</td>\n",
       "      <td>0</td>\n",
       "      <td>0</td>\n",
       "      <td>0</td>\n",
       "      <td>0</td>\n",
       "      <td>0</td>\n",
       "      <td>0</td>\n",
       "      <td>Passing Too Closely</td>\n",
       "      <td>Unspecified</td>\n",
       "      <td>4268108</td>\n",
       "      <td>Tanker</td>\n",
       "      <td>Sedan</td>\n",
       "    </tr>\n",
       "    <tr>\n",
       "      <th>324382</th>\n",
       "      <td>1/1/19</td>\n",
       "      <td>12:00</td>\n",
       "      <td>MANHATTAN</td>\n",
       "      <td>(40.71941, -73.99633)</td>\n",
       "      <td>0</td>\n",
       "      <td>0</td>\n",
       "      <td>0</td>\n",
       "      <td>0</td>\n",
       "      <td>0</td>\n",
       "      <td>0</td>\n",
       "      <td>0</td>\n",
       "      <td>0</td>\n",
       "      <td>Driver Inattention/Distraction</td>\n",
       "      <td>Unspecified</td>\n",
       "      <td>4060666</td>\n",
       "      <td>Sedan</td>\n",
       "      <td>NaN</td>\n",
       "    </tr>\n",
       "  </tbody>\n",
       "</table>\n",
       "<p>324383 rows × 17 columns</p>\n",
       "</div>"
      ],
      "text/plain": [
       "       CRASH DATE CRASH TIME    BOROUGH                 LOCATION  \\\n",
       "0         5/21/19      22:50   BROOKLYN    (40.69754, -73.98312)   \n",
       "1         1/21/20      15:49        NaN                      NaN   \n",
       "2        12/31/20      16:30        NaN                      NaN   \n",
       "3        12/25/20      20:19        NaN                      NaN   \n",
       "4         4/15/20      15:20        NaN   (40.671585, -73.99843)   \n",
       "...           ...        ...        ...                      ...   \n",
       "324378     1/1/19      19:00   BROOKLYN    (40.6897, -73.922455)   \n",
       "324379     1/1/19       8:00      BRONX   (40.81317, -73.859146)   \n",
       "324380     1/1/19       3:30      BRONX   (40.829407, -73.81967)   \n",
       "324381     1/1/19      19:30   BROOKLYN  (40.687565, -73.984406)   \n",
       "324382     1/1/19      12:00  MANHATTAN    (40.71941, -73.99633)   \n",
       "\n",
       "        NUMBER OF PERSONS INJURED  NUMBER OF PERSONS KILLED  \\\n",
       "0                               0                         0   \n",
       "1                               0                         0   \n",
       "2                               0                         0   \n",
       "3                               0                         0   \n",
       "4                               0                         0   \n",
       "...                           ...                       ...   \n",
       "324378                          0                         0   \n",
       "324379                          0                         0   \n",
       "324380                          0                         0   \n",
       "324381                          0                         0   \n",
       "324382                          0                         0   \n",
       "\n",
       "        NUMBER OF PEDESTRIANS INJURED  NUMBER OF PEDESTRIANS KILLED  \\\n",
       "0                                   0                             0   \n",
       "1                                   0                             0   \n",
       "2                                   0                             0   \n",
       "3                                   0                             0   \n",
       "4                                   0                             0   \n",
       "...                               ...                           ...   \n",
       "324378                              0                             0   \n",
       "324379                              0                             0   \n",
       "324380                              0                             0   \n",
       "324381                              0                             0   \n",
       "324382                              0                             0   \n",
       "\n",
       "        NUMBER OF CYCLIST INJURED  NUMBER OF CYCLIST KILLED  \\\n",
       "0                               0                         0   \n",
       "1                               0                         0   \n",
       "2                               0                         0   \n",
       "3                               0                         0   \n",
       "4                               0                         0   \n",
       "...                           ...                       ...   \n",
       "324378                          0                         0   \n",
       "324379                          0                         0   \n",
       "324380                          0                         0   \n",
       "324381                          0                         0   \n",
       "324382                          0                         0   \n",
       "\n",
       "        NUMBER OF MOTORIST INJURED  NUMBER OF MOTORIST KILLED  \\\n",
       "0                                0                          0   \n",
       "1                                0                          0   \n",
       "2                                0                          0   \n",
       "3                                0                          0   \n",
       "4                                0                          0   \n",
       "...                            ...                        ...   \n",
       "324378                           0                          0   \n",
       "324379                           0                          0   \n",
       "324380                           0                          0   \n",
       "324381                           0                          0   \n",
       "324382                           0                          0   \n",
       "\n",
       "         CONTRIBUTING FACTOR VEHICLE 1 CONTRIBUTING FACTOR VEHICLE 2  \\\n",
       "0       Passing or Lane Usage Improper                   Unspecified   \n",
       "1       Driver Inattention/Distraction                   Unspecified   \n",
       "2       Reaction to Uninvolved Vehicle                           NaN   \n",
       "3                Following Too Closely                   Unspecified   \n",
       "4       Driver Inattention/Distraction                   Unspecified   \n",
       "...                                ...                           ...   \n",
       "324378  Driver Inattention/Distraction                   Unspecified   \n",
       "324379                Steering Failure                   Unspecified   \n",
       "324380                     Unspecified                   Unspecified   \n",
       "324381             Passing Too Closely                   Unspecified   \n",
       "324382  Driver Inattention/Distraction                   Unspecified   \n",
       "\n",
       "        COLLISION_ID VEHICLE TYPE CODE 1                  VEHICLE TYPE CODE 2  \n",
       "0            4136992              ÔøΩMBU                                 Taxi  \n",
       "1            4277087               Sedan  Station Wagon/Sport Utility Vehicle  \n",
       "2            4380668               Sedan                                  NaN  \n",
       "3            4380494               Sedan                                Sedan  \n",
       "4            4407790               Sedan                 Tractor Truck Diesel  \n",
       "...              ...                 ...                                  ...  \n",
       "324378       4060606           Ambulance                                Sedan  \n",
       "324379       4060771       Pick-up Truck  Station Wagon/Sport Utility Vehicle  \n",
       "324380       4060653       Pick-up Truck                                Sedan  \n",
       "324381       4268108              Tanker                                Sedan  \n",
       "324382       4060666               Sedan                                  NaN  \n",
       "\n",
       "[324383 rows x 17 columns]"
      ]
     },
     "execution_count": 18,
     "metadata": {},
     "output_type": "execute_result"
    }
   ],
   "source": [
    "df_accidents"
   ]
  },
  {
   "cell_type": "code",
   "execution_count": 19,
   "id": "d20d8cde",
   "metadata": {},
   "outputs": [
    {
     "name": "stdout",
     "output_type": "stream",
     "text": [
      "<class 'pandas.core.frame.DataFrame'>\n",
      "RangeIndex: 324383 entries, 0 to 324382\n",
      "Data columns (total 17 columns):\n",
      " #   Column                         Non-Null Count   Dtype \n",
      "---  ------                         --------------   ----- \n",
      " 0   CRASH DATE                     324383 non-null  object\n",
      " 1   CRASH TIME                     324383 non-null  object\n",
      " 2   BOROUGH                        210698 non-null  object\n",
      " 3   LOCATION                       298090 non-null  object\n",
      " 4   NUMBER OF PERSONS INJURED      324383 non-null  int64 \n",
      " 5   NUMBER OF PERSONS KILLED       324383 non-null  int64 \n",
      " 6   NUMBER OF PEDESTRIANS INJURED  324383 non-null  int64 \n",
      " 7   NUMBER OF PEDESTRIANS KILLED   324383 non-null  int64 \n",
      " 8   NUMBER OF CYCLIST INJURED      324383 non-null  int64 \n",
      " 9   NUMBER OF CYCLIST KILLED       324383 non-null  int64 \n",
      " 10  NUMBER OF MOTORIST INJURED     324383 non-null  int64 \n",
      " 11  NUMBER OF MOTORIST KILLED      324383 non-null  int64 \n",
      " 12  CONTRIBUTING FACTOR VEHICLE 1  323137 non-null  object\n",
      " 13  CONTRIBUTING FACTOR VEHICLE 2  266488 non-null  object\n",
      " 14  COLLISION_ID                   324383 non-null  int64 \n",
      " 15  VEHICLE TYPE CODE 1            321932 non-null  object\n",
      " 16  VEHICLE TYPE CODE 2            245802 non-null  object\n",
      "dtypes: int64(9), object(8)\n",
      "memory usage: 42.1+ MB\n"
     ]
    }
   ],
   "source": [
    "## see the overall info about this dataset\n",
    "df_accidents.info()"
   ]
  },
  {
   "cell_type": "code",
   "execution_count": 23,
   "id": "3970784a",
   "metadata": {},
   "outputs": [
    {
     "data": {
      "text/plain": [
       "0          BROOKLYN\n",
       "1               NaN\n",
       "2               NaN\n",
       "3               NaN\n",
       "4               NaN\n",
       "            ...    \n",
       "324378     BROOKLYN\n",
       "324379        BRONX\n",
       "324380        BRONX\n",
       "324381     BROOKLYN\n",
       "324382    MANHATTAN\n",
       "Name: BOROUGH, Length: 324383, dtype: object"
      ]
     },
     "execution_count": 23,
     "metadata": {},
     "output_type": "execute_result"
    }
   ],
   "source": [
    "## create a series for borough using dot notation\n",
    "\n",
    "df_accidentsborough = df_accidents.BOROUGH\n",
    "\n",
    "df_accidentsborough"
   ]
  },
  {
   "cell_type": "code",
   "execution_count": 25,
   "id": "0cad6845",
   "metadata": {},
   "outputs": [
    {
     "data": {
      "text/plain": [
       "0          5/21/19\n",
       "1          1/21/20\n",
       "2         12/31/20\n",
       "3         12/25/20\n",
       "4          4/15/20\n",
       "            ...   \n",
       "324378      1/1/19\n",
       "324379      1/1/19\n",
       "324380      1/1/19\n",
       "324381      1/1/19\n",
       "324382      1/1/19\n",
       "Name: CRASH DATE, Length: 324383, dtype: object"
      ]
     },
     "execution_count": 25,
     "metadata": {},
     "output_type": "execute_result"
    }
   ],
   "source": [
    "## create a series of crash dates.\n",
    "\n",
    "df_crashdate = df_accidents[\"CRASH DATE\"]\n",
    "df_crashdate "
   ]
  },
  {
   "cell_type": "code",
   "execution_count": 28,
   "id": "f2b6b17a",
   "metadata": {},
   "outputs": [
    {
     "data": {
      "text/plain": [
       "BOROUGH\n",
       "BROOKLYN         69944\n",
       "QUEENS           60529\n",
       "MANHATTAN        37446\n",
       "BRONX            36741\n",
       "STATEN ISLAND     6038\n",
       "Name: count, dtype: int64"
      ]
     },
     "execution_count": 28,
     "metadata": {},
     "output_type": "execute_result"
    }
   ],
   "source": [
    "## Which borough had the most crashes?\n",
    "\n",
    "df_accidents[\"BOROUGH\"].value_counts()"
   ]
  },
  {
   "cell_type": "code",
   "execution_count": null,
   "id": "1becd71f",
   "metadata": {},
   "outputs": [],
   "source": [
    "#SELF NOTE:\n",
    "#Brooklyn had the most crashes\n",
    "#I don't know how to index so I can print a conditional sentence naming the borough with the most accidents"
   ]
  },
  {
   "cell_type": "code",
   "execution_count": 46,
   "id": "d556522d",
   "metadata": {},
   "outputs": [
    {
     "data": {
      "text/plain": [
       "VEHICLE TYPE CODE 1\n",
       "Sedan                                  147440\n",
       "Station Wagon/Sport Utility Vehicle    120571\n",
       "Taxi                                    13592\n",
       "Pick-up Truck                            8958\n",
       "Box Truck                                6266\n",
       "Bus                                      4980\n",
       "Bike                                     3124\n",
       "Name: count, dtype: int64"
      ]
     },
     "execution_count": 46,
     "metadata": {},
     "output_type": "execute_result"
    }
   ],
   "source": [
    "## which type of vehicle was primary vehicle involved in crashes?\n",
    "## SHOW ONLY THE TOP 7\n",
    "\n",
    "\n",
    "df_topsevencars = (df_accidents[\"VEHICLE TYPE CODE 1\"].value_counts()).head(7)\n",
    "total_crashes = 324383\n",
    "df_topsevencars"
   ]
  },
  {
   "cell_type": "code",
   "execution_count": 47,
   "id": "be50388e",
   "metadata": {},
   "outputs": [
    {
     "ename": "NameError",
     "evalue": "name 'df_gold' is not defined",
     "output_type": "error",
     "traceback": [
      "\u001b[0;31m---------------------------------------------------------------------------\u001b[0m",
      "\u001b[0;31mNameError\u001b[0m                                 Traceback (most recent call last)",
      "Cell \u001b[0;32mIn[47], line 3\u001b[0m\n\u001b[1;32m      1\u001b[0m \u001b[38;5;66;03m## these top 7 but as percentages as a dataframe, with the header \"pct\"\u001b[39;00m\n\u001b[0;32m----> 3\u001b[0m (df_gold\u001b[38;5;241m.\u001b[39mvalue_counts(\u001b[38;5;124m\"\u001b[39m\u001b[38;5;124mTeam\u001b[39m\u001b[38;5;124m\"\u001b[39m, normalize\u001b[38;5;241m=\u001b[39m \u001b[38;5;28;01mTrue\u001b[39;00m )\u001b[38;5;241m*\u001b[39m\u001b[38;5;241m100\u001b[39m)\u001b[38;5;241m.\u001b[39mto_frame(\u001b[38;5;124m\"\u001b[39m\u001b[38;5;124mpct\u001b[39m\u001b[38;5;124m\"\u001b[39m)\n",
      "\u001b[0;31mNameError\u001b[0m: name 'df_gold' is not defined"
     ]
    }
   ],
   "source": [
    "## these top 7 but as percentages as a dataframe, with the header \"pct\""
   ]
  },
  {
   "cell_type": "code",
   "execution_count": null,
   "id": "83dfc384",
   "metadata": {},
   "outputs": [],
   "source": [
    "## What were a 15 unusual primary vehicles to get into a crash?\n",
    "\n",
    "df_unusualvehicles = (df_accidents[\"VEHICLE TYPE CODE 1\"].value_counts()).head(7)"
   ]
  },
  {
   "cell_type": "code",
   "execution_count": null,
   "id": "8df45602",
   "metadata": {},
   "outputs": [],
   "source": [
    "## create a subset of data for only Queens\n",
    "## place it in a dataframe called df_q\n"
   ]
  },
  {
   "cell_type": "code",
   "execution_count": null,
   "id": "ec8c8ac9",
   "metadata": {},
   "outputs": [],
   "source": [
    "## number of people killed but return as a frame with a label \"number_killed\"\n"
   ]
  },
  {
   "cell_type": "code",
   "execution_count": null,
   "id": "907f1f21",
   "metadata": {},
   "outputs": [],
   "source": [
    "## create a dataset for Manhattan that involved taxi cabs as the primary vehicle cause\n"
   ]
  },
  {
   "cell_type": "code",
   "execution_count": null,
   "id": "32704f24",
   "metadata": {},
   "outputs": [],
   "source": [
    "## What were the top 8 causes of accidents across all the boroughs?\n",
    "## by primary vehicle cause\n"
   ]
  },
  {
   "cell_type": "code",
   "execution_count": null,
   "id": "e381cd4c",
   "metadata": {},
   "outputs": [],
   "source": [
    "## What were the top 8 causes of accidents across all the boroughs?\n",
    "## by primary vehicle cause\n",
    "### as a percent in a frame with header pct_\n"
   ]
  },
  {
   "cell_type": "code",
   "execution_count": null,
   "id": "77e3122f",
   "metadata": {},
   "outputs": [],
   "source": [
    "## What were the top 8 causes of accidents across all the boroughs?\n",
    "## by secondary vehicle cause\n"
   ]
  },
  {
   "cell_type": "code",
   "execution_count": null,
   "id": "d524c89e",
   "metadata": {},
   "outputs": [],
   "source": [
    "## What were the 5 fewest causes for primary vehicles causing the accident\n"
   ]
  },
  {
   "cell_type": "code",
   "execution_count": null,
   "id": "c67fbfac",
   "metadata": {},
   "outputs": [],
   "source": [
    "## list ALL the causes for vehicle 1 as unique values (in other words, create a list of the causes)\n",
    "\n"
   ]
  },
  {
   "cell_type": "code",
   "execution_count": null,
   "id": "3f7ad5c2",
   "metadata": {},
   "outputs": [],
   "source": [
    "## find all incidents of defective pavements causing accidents \n",
    "## and sort by borough\n"
   ]
  },
  {
   "cell_type": "code",
   "execution_count": null,
   "id": "b37ad765",
   "metadata": {},
   "outputs": [],
   "source": [
    "## find all incidents in which more than 3 people were killed"
   ]
  },
  {
   "cell_type": "code",
   "execution_count": null,
   "id": "828d51c3",
   "metadata": {},
   "outputs": [],
   "source": [
    "## find all incidents in which between 2 and 3 people were killed"
   ]
  },
  {
   "cell_type": "code",
   "execution_count": null,
   "id": "8ecf743f",
   "metadata": {},
   "outputs": [],
   "source": []
  }
 ],
 "metadata": {
  "kernelspec": {
   "display_name": "Python 3 (ipykernel)",
   "language": "python",
   "name": "python3"
  },
  "language_info": {
   "codemirror_mode": {
    "name": "ipython",
    "version": 3
   },
   "file_extension": ".py",
   "mimetype": "text/x-python",
   "name": "python",
   "nbconvert_exporter": "python",
   "pygments_lexer": "ipython3",
   "version": "3.11.5"
  }
 },
 "nbformat": 4,
 "nbformat_minor": 5
}
